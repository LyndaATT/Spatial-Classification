{
 "cells": [
  {
   "cell_type": "markdown",
   "metadata": {},
   "source": [
    "# Annexe \n",
    "##  <ul>1) Preuve formules Gaussian Bayes </ul>\n",
    "### a) MLE\n",
    "\n",
    "On maximise la vraisemblance des données pour un modèle Gaussien : \n",
    "\n",
    "\\begin{align*}\n",
    "\\Theta^* & = argmax_\\Theta(log(\\mathcal{L}(\\Theta))) \n",
    "\\\\& = argmax_\\Theta(log  \\mathbb{P}( X = (\\vec x)_n |y_{n}, \\Theta) \n",
    "\\end{align*}\n",
    "\n",
    "Par indépendance des $(\\vec{x}_i, y_i), i \\in [\\![ 0, N ]\\!]$, on retrouve :\n",
    "\n",
    "\\begin{align*}\n",
    "\\Theta^*   &= argmax_\\Theta(log \\prod_{n}^{N} \\mathbb{P}(X_n = \\vec x_n |y_n = k, \\Theta))\n",
    "\\\\& = argmax_\\Theta(\\sum_{n}^{N} log \\mathbb{P}(X_n = \\vec x_n |y_n = k, \\Theta))\n",
    "\\end{align*}\n",
    "\n",
    "On suppose également les features indépendantes (principe de modèle Bayesien naif) :\n",
    "\n",
    "$$ \\mathbb{P}(X_n = \\vec x_n |y_n = k, \\Theta) = \\prod_{d}^{D}\\mathbb{P}(x_{n,d} = x_{n,d} |y_n = k, \\Theta)$$\n",
    "\n",
    "On note comme dans le cours $ \\mathbb{1}_{y_n = k}$ la fonction qui vaut 1 si $y_n=k$ et 0 sinon. On utilise également un modèle gaussien ce qui nous amène à réecrire la probabilité en :\n",
    "\n",
    "$$ \\mathbb{P}(X_n = \\vec x_n |y_n = k, \\Theta) = \n",
    "\\prod_{d}^{D} \\frac{1}{\\sqrt{2 \\pi\\sigma_{k,d}^2}}  \n",
    "exp {\\frac{-(x_{n,d}-\\mu_{k,d})^2}{2\\sigma_{k,d}^2}} \\mathbb{1}_{y_n = k}$$\n",
    "\n",
    "Ce qui nous permet de réécrire : \n",
    "\\begin{align*}\n",
    "\\Theta^* & = argmax_\\Theta(\\sum_{n}^{N}log(\\prod_{d}^{D} \\frac{1}{\\sqrt{2 \\pi\\sigma_{k,d}^2}}  \n",
    "exp {\\frac{-(x_{n,d}-\\mu_{k,d})^2}{2\\sigma_{k,d}^2}} \\mathbb{1}_{y_n = k}))\n",
    "\\\\& = argmax_\\Theta(\\sum_{n}^{N} \\sum_{d}^{D}[log( \\frac{1}{\\sqrt{2 \\pi\\sigma_{k,d}^2}}) \n",
    "-\\frac{(x_{n,d}-\\mu_{k,d})^2}{2\\sigma_{k,d}^2}] \\mathbb{1}_{y_n = k})\n",
    "\\end{align*}\n",
    "\n"
   ]
  },
  {
   "cell_type": "markdown",
   "metadata": {},
   "source": [
    "### b) Mise à jour des paramètres "
   ]
  },
  {
   "cell_type": "markdown",
   "metadata": {},
   "source": [
    "Les paramètres à optimiser sont $\\mu_{k,d}$ et $\\sigma_{k,d}^2$. On dérive la fonction précédente par rapport à $\\Theta$ pour trouver son maximum :\n",
    "\n",
    "<U><h3> <li>Pour $ \\mu_{k,d}$ :</li> </h3></U>\n",
    "\\begin{align*}\n",
    "0 &= \\frac{\\partial{log(\\mathcal{L}(\\Theta)}}{\\partial{\\mu_{k,d}}}\n",
    "\\\\&= \\frac{\\partial{}}{\\partial{\\mu_{k,d}}}\n",
    "(\\sum_{n}^{N} \\sum_{d'}^{D}[log( \\frac{1}{\\sqrt{2 \\pi\\sigma_{k,d'}^2}}) \n",
    "-\\frac{(x_{n,d'}-\\mu_{k,d'})^2}{2\\sigma_{k,d'}^2}] \\mathbb{1}_{y_n = k})\n",
    "\\\\&=\n",
    "\\sum_{n}^{N} \n",
    "(\\frac{(x_{n,d}-\\mu_{k,d})}{\\sigma_{k,d}^2} \\mathbb{1}_{y_n = k} + \\sum_{d'\\neq d}^{D}(0))\n",
    "\\end{align*}\n",
    "\n",
    "\n"
   ]
  },
  {
   "cell_type": "markdown",
   "metadata": {},
   "source": [
    "- En ne gardant que le dénominateur et en distribuant la somme :\n",
    "$$ \\sum_{n}^{N}\\mu_{k,d} \\mathbb{1}_{y_n = k} =  \\sum_{n}^{N} x_{n,d}  \\mathbb{1}_{y_n = k} $$\n",
    "\n",
    "- Ce qui nous donne finalement : \n",
    "$$ \\mu_{k,d}=\\frac{\\sum_{n}^{N} x_{n,d} \\mathbb{1}_{y_n = k}}{\\sum_{n}^{N} \\mathbb{1}_{y_n = k}} $$"
   ]
  },
  {
   "cell_type": "markdown",
   "metadata": {},
   "source": [
    "<U><h3> <li>Pour $ \\sigma_{k,d}^2$ :</li> </h3></U>\n",
    "\n",
    "\\begin{align*}\n",
    "0 &= \\frac{\\partial{log(\\mathcal{L}(\\Theta)}}{\\partial{\\sigma_{k,d}}}\n",
    "\\\\&= \\frac{\\partial{}}{\\partial{\\sigma_{k,d}}}\n",
    "(\\sum_{n}^{N} \\sum_{d'}^{D}[log( \\frac{1}{\\sqrt{2 \\pi\\sigma_{k,d'}^2}}) \n",
    "-\\frac{(x_{n,d'}-\\mu_{k,d'})^2}{2\\sigma_{k,d'}^2}] \\mathbb{1}_{y_n = k})\n",
    "\\\\&=\n",
    "\\sum_{n}^{N}((\\frac{-\\sigma_{k,d}^2}{\\sigma_{k,d}^3}+\\frac{(x_{n,d}-\\mu_{k,d})^2}{\\sigma_{k,d}^3}) \\mathbb{1}_{y_n = k} + \\sum_{d'\\neq d}^{D}(0))\n",
    "\\end{align*}"
   ]
  },
  {
   "cell_type": "markdown",
   "metadata": {},
   "source": [
    "- En ne gardant que le dénominateur et en distribuant la somme :\n",
    "$$ \\sum_{n}^{N}\\sigma_{k,d}^2 \\mathbb{1}_{y_n = k} =  \\sum_{n}^{N} (x_{n,d}-\\mu_{k,d})^2  \\mathbb{1}_{y_n = k} $$\n",
    "\n",
    "\n",
    "- Ce qui nous donne finalement : \n",
    "$$ \\sigma_{k,d}^2=\\frac{\\sum_{n}^{N} (x_{n,d}-\\mu_{k,d})^2 \\mathbb{1}_{y_n = k}}{\\sum_{n}^{N} \\mathbb{1}_{y_n = k}} $$\n"
   ]
  },
  {
   "cell_type": "markdown",
   "metadata": {},
   "source": [
    "### c) Fonction de décision"
   ]
  },
  {
   "cell_type": "markdown",
   "metadata": {},
   "source": [
    "En utilisant la formule de Bayes et d'après le cours on retrouve : \n",
    "$$ k^* = argmax_k(\\mathbb{P}(\\vec x|y=k, \\Theta)\\mathbb{P}(y=k|\\Theta))$$\n",
    "$k^*$ étant le y_predict de la donnée $\\vec x$"
   ]
  },
  {
   "cell_type": "markdown",
   "metadata": {},
   "source": [
    "On sait que :\n",
    "$$\\mathbb{P}(y=k|\\Theta) = \\frac{\\sum_{n}^{N} \\mathbb{1}_{y_n = k}}{N}$$\n",
    "On peut donc réecrire $k^*$ en :\n",
    "\n",
    "$$k^* = argmax_k(\\prod_{d}^{D}\\frac{1}{\\sqrt{2 \\pi\\sigma_{k,d}^2}}  \n",
    "exp {\\frac{-(x_{d}-\\mu_{k,d})^2}{2\\sigma_{k,d}^2}} .\\frac{\\sum_{n}^{N}\\mathbb{1}_{y_n = k}}{N})$$\n",
    "\n",
    "Finalement, en introduisant le log on obtient :\n",
    "\n",
    "$$k^* = argmax_k(\\sum_{d}^{D}(log(\\frac{1}{\\sqrt{2 \\pi\\sigma_{k,d}^2}})  \n",
    "- \\frac{(x_{d}-\\mu_{k,d})^2}{2\\sigma_{k,d}^2}) + log \\frac{\\sum_{n}^{N}\\mathbb{1}_{y_n = k}}{N})$$"
   ]
  },
  {
   "cell_type": "code",
   "execution_count": null,
   "metadata": {},
   "outputs": [],
   "source": []
  }
 ],
 "metadata": {
  "kernelspec": {
   "display_name": "Python 3",
   "language": "python",
   "name": "python3"
  },
  "language_info": {
   "codemirror_mode": {
    "name": "ipython",
    "version": 3
   },
   "file_extension": ".py",
   "mimetype": "text/x-python",
   "name": "python",
   "nbconvert_exporter": "python",
   "pygments_lexer": "ipython3",
   "version": "3.8.5"
  }
 },
 "nbformat": 4,
 "nbformat_minor": 2
}
