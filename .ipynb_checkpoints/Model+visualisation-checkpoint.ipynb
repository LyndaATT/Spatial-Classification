{
 "cells": [
  {
   "cell_type": "code",
   "execution_count": 34,
   "metadata": {},
   "outputs": [],
   "source": [
    "import numpy as np \n",
    "import pandas as pd\n",
    "import seaborn as sns\n",
    "import matplotlib.pyplot as plt\n",
    "from sklearn import preprocessing\n",
    "from sklearn import model_selection"
   ]
  },
  {
   "cell_type": "code",
   "execution_count": 35,
   "metadata": {},
   "outputs": [
    {
     "data": {
      "text/html": [
       "<div>\n",
       "<style scoped>\n",
       "    .dataframe tbody tr th:only-of-type {\n",
       "        vertical-align: middle;\n",
       "    }\n",
       "\n",
       "    .dataframe tbody tr th {\n",
       "        vertical-align: top;\n",
       "    }\n",
       "\n",
       "    .dataframe thead th {\n",
       "        text-align: right;\n",
       "    }\n",
       "</style>\n",
       "<table border=\"1\" class=\"dataframe\">\n",
       "  <thead>\n",
       "    <tr style=\"text-align: right;\">\n",
       "      <th></th>\n",
       "      <th>objid</th>\n",
       "      <th>ra</th>\n",
       "      <th>dec</th>\n",
       "      <th>u</th>\n",
       "      <th>g</th>\n",
       "      <th>r</th>\n",
       "      <th>i</th>\n",
       "      <th>z</th>\n",
       "      <th>run</th>\n",
       "      <th>rerun</th>\n",
       "      <th>camcol</th>\n",
       "      <th>field</th>\n",
       "      <th>specobjid</th>\n",
       "      <th>class</th>\n",
       "      <th>redshift</th>\n",
       "      <th>plate</th>\n",
       "      <th>mjd</th>\n",
       "      <th>fiberid</th>\n",
       "    </tr>\n",
       "  </thead>\n",
       "  <tbody>\n",
       "    <tr>\n",
       "      <td>0</td>\n",
       "      <td>1237666301628060000</td>\n",
       "      <td>47.372545</td>\n",
       "      <td>0.820621</td>\n",
       "      <td>18.69254</td>\n",
       "      <td>17.13867</td>\n",
       "      <td>16.55555</td>\n",
       "      <td>16.34662</td>\n",
       "      <td>16.17639</td>\n",
       "      <td>4849</td>\n",
       "      <td>301</td>\n",
       "      <td>5</td>\n",
       "      <td>771</td>\n",
       "      <td>8168632633242440000</td>\n",
       "      <td>STAR</td>\n",
       "      <td>0.000115</td>\n",
       "      <td>7255</td>\n",
       "      <td>56597</td>\n",
       "      <td>832</td>\n",
       "    </tr>\n",
       "    <tr>\n",
       "      <td>1</td>\n",
       "      <td>1237673706652430000</td>\n",
       "      <td>116.303083</td>\n",
       "      <td>42.455980</td>\n",
       "      <td>18.47633</td>\n",
       "      <td>17.30546</td>\n",
       "      <td>17.24116</td>\n",
       "      <td>17.32780</td>\n",
       "      <td>17.37114</td>\n",
       "      <td>6573</td>\n",
       "      <td>301</td>\n",
       "      <td>6</td>\n",
       "      <td>220</td>\n",
       "      <td>9333948945297330000</td>\n",
       "      <td>STAR</td>\n",
       "      <td>-0.000093</td>\n",
       "      <td>8290</td>\n",
       "      <td>57364</td>\n",
       "      <td>868</td>\n",
       "    </tr>\n",
       "    <tr>\n",
       "      <td>2</td>\n",
       "      <td>1237671126974140000</td>\n",
       "      <td>172.756623</td>\n",
       "      <td>-8.785698</td>\n",
       "      <td>16.47714</td>\n",
       "      <td>15.31072</td>\n",
       "      <td>15.55971</td>\n",
       "      <td>15.72207</td>\n",
       "      <td>15.82471</td>\n",
       "      <td>5973</td>\n",
       "      <td>301</td>\n",
       "      <td>1</td>\n",
       "      <td>13</td>\n",
       "      <td>3221211255238850000</td>\n",
       "      <td>STAR</td>\n",
       "      <td>0.000165</td>\n",
       "      <td>2861</td>\n",
       "      <td>54583</td>\n",
       "      <td>42</td>\n",
       "    </tr>\n",
       "    <tr>\n",
       "      <td>3</td>\n",
       "      <td>1237665441518260000</td>\n",
       "      <td>201.224207</td>\n",
       "      <td>28.771290</td>\n",
       "      <td>18.63561</td>\n",
       "      <td>16.88346</td>\n",
       "      <td>16.09825</td>\n",
       "      <td>15.70987</td>\n",
       "      <td>15.43491</td>\n",
       "      <td>4649</td>\n",
       "      <td>301</td>\n",
       "      <td>3</td>\n",
       "      <td>121</td>\n",
       "      <td>2254061292459420000</td>\n",
       "      <td>GALAXY</td>\n",
       "      <td>0.058155</td>\n",
       "      <td>2002</td>\n",
       "      <td>53471</td>\n",
       "      <td>35</td>\n",
       "    </tr>\n",
       "    <tr>\n",
       "      <td>4</td>\n",
       "      <td>1237665441522840000</td>\n",
       "      <td>212.817222</td>\n",
       "      <td>26.625225</td>\n",
       "      <td>18.88325</td>\n",
       "      <td>17.87948</td>\n",
       "      <td>17.47037</td>\n",
       "      <td>17.17441</td>\n",
       "      <td>17.05235</td>\n",
       "      <td>4649</td>\n",
       "      <td>301</td>\n",
       "      <td>3</td>\n",
       "      <td>191</td>\n",
       "      <td>2390305906828010000</td>\n",
       "      <td>GALAXY</td>\n",
       "      <td>0.072210</td>\n",
       "      <td>2123</td>\n",
       "      <td>53793</td>\n",
       "      <td>74</td>\n",
       "    </tr>\n",
       "  </tbody>\n",
       "</table>\n",
       "</div>"
      ],
      "text/plain": [
       "                 objid          ra        dec         u         g         r  \\\n",
       "0  1237666301628060000   47.372545   0.820621  18.69254  17.13867  16.55555   \n",
       "1  1237673706652430000  116.303083  42.455980  18.47633  17.30546  17.24116   \n",
       "2  1237671126974140000  172.756623  -8.785698  16.47714  15.31072  15.55971   \n",
       "3  1237665441518260000  201.224207  28.771290  18.63561  16.88346  16.09825   \n",
       "4  1237665441522840000  212.817222  26.625225  18.88325  17.87948  17.47037   \n",
       "\n",
       "          i         z   run  rerun  camcol  field            specobjid  \\\n",
       "0  16.34662  16.17639  4849    301       5    771  8168632633242440000   \n",
       "1  17.32780  17.37114  6573    301       6    220  9333948945297330000   \n",
       "2  15.72207  15.82471  5973    301       1     13  3221211255238850000   \n",
       "3  15.70987  15.43491  4649    301       3    121  2254061292459420000   \n",
       "4  17.17441  17.05235  4649    301       3    191  2390305906828010000   \n",
       "\n",
       "    class  redshift  plate    mjd  fiberid  \n",
       "0    STAR  0.000115   7255  56597      832  \n",
       "1    STAR -0.000093   8290  57364      868  \n",
       "2    STAR  0.000165   2861  54583       42  \n",
       "3  GALAXY  0.058155   2002  53471       35  \n",
       "4  GALAXY  0.072210   2123  53793       74  "
      ]
     },
     "execution_count": 35,
     "metadata": {},
     "output_type": "execute_result"
    }
   ],
   "source": [
    "##reading data with pandas\n",
    "df= pd.read_csv('dataset.csv')\n",
    "## Taking a peak at the data\n",
    "df.head()"
   ]
  },
  {
   "cell_type": "markdown",
   "metadata": {},
   "source": [
    "# Data Analysis & Preprocessing"
   ]
  },
  {
   "cell_type": "code",
   "execution_count": 36,
   "metadata": {},
   "outputs": [
    {
     "name": "stdout",
     "output_type": "stream",
     "text": [
      "Nan value objid        0\n",
      "ra           0\n",
      "dec          0\n",
      "u            0\n",
      "g            0\n",
      "r            0\n",
      "i            0\n",
      "z            0\n",
      "run          0\n",
      "rerun        0\n",
      "camcol       0\n",
      "field        0\n",
      "specobjid    0\n",
      "class        0\n",
      "redshift     0\n",
      "plate        0\n",
      "mjd          0\n",
      "fiberid      0\n",
      "dtype: int64\n"
     ]
    }
   ],
   "source": [
    "#test if the data contains null values\n",
    "print('Nan value',df.isnull().sum())"
   ]
  },
  {
   "cell_type": "code",
   "execution_count": 37,
   "metadata": {},
   "outputs": [
    {
     "data": {
      "text/plain": [
       "Index(['objid', 'ra', 'dec', 'u', 'g', 'r', 'i', 'z', 'run', 'rerun', 'camcol',\n",
       "       'field', 'specobjid', 'class', 'redshift', 'plate', 'mjd', 'fiberid'],\n",
       "      dtype='object')"
      ]
     },
     "execution_count": 37,
     "metadata": {},
     "output_type": "execute_result"
    }
   ],
   "source": [
    "#take a look at the column of the dataframe to see the features\n",
    "df.columns\n"
   ]
  },
  {
   "cell_type": "code",
   "execution_count": 38,
   "metadata": {},
   "outputs": [
    {
     "data": {
      "text/plain": [
       "GALAXY    51323\n",
       "STAR      38096\n",
       "QSO       10581\n",
       "Name: class, dtype: int64"
      ]
     },
     "execution_count": 38,
     "metadata": {},
     "output_type": "execute_result"
    }
   ],
   "source": [
    "#number of data in each class\n",
    "df['class'].value_counts()"
   ]
  },
  {
   "cell_type": "code",
   "execution_count": 39,
   "metadata": {},
   "outputs": [],
   "source": [
    "class0,class1,class2 = df[df['class'] == 'GALAXY'],df[df['class'] == 'STAR'],df[df['class'] == 'QSO']\n",
    "count_class_0, count_class_1,count_class_2 = df['class'].value_counts()"
   ]
  },
  {
   "cell_type": "code",
   "execution_count": 40,
   "metadata": {},
   "outputs": [
    {
     "name": "stdout",
     "output_type": "stream",
     "text": [
      "After Random over-sampling:\n",
      "STAR      51323\n",
      "GALAXY    51323\n",
      "QSO       51323\n",
      "Name: class, dtype: int64\n"
     ]
    }
   ],
   "source": [
    "class1_sampled = class1.sample(count_class_0, replace=True) #le .sample permet d'avoir des objets randoms\n",
    "class2_sampled = class2.sample(count_class_0, replace=True)\n",
    "\n",
    "df = pd.concat([class0, class1_sampled,class2_sampled], axis=0)\n",
    "\n",
    "print('After Random over-sampling:')\n",
    "print(df['class'].value_counts())\n"
   ]
  },
  {
   "cell_type": "code",
   "execution_count": 41,
   "metadata": {},
   "outputs": [
    {
     "data": {
      "image/png": "[encoded data removed]",
      "text/plain": [
       "<Figure size 720x360 with 1 Axes>"
      ]
     },
     "metadata": {
      "needs_background": "light"
     },
     "output_type": "display_data"
    }
   ],
   "source": [
    "plt.figure(figsize=(10,5))\n",
    "ax = sns.countplot(x=\"class\", data=df, palette='mako')\n",
    "plt.title('Number of data in each class after sampling ', fontsize=20)\n",
    "\n",
    "for p in ax.patches:\n",
    "    ax.annotate(format(p.get_height(), '.0f'), (p.get_x() + p.get_width() / 2, p.get_height()/2), \n",
    "    ha = 'center', va = 'center', xytext = (5, 10), textcoords = 'offset points',size=12,color='black')"
   ]
  },
  {
   "cell_type": "code",
   "execution_count": 42,
   "metadata": {},
   "outputs": [
    {
     "data": {
      "text/html": [
       "<div>\n",
       "<style scoped>\n",
       "    .dataframe tbody tr th:only-of-type {\n",
       "        vertical-align: middle;\n",
       "    }\n",
       "\n",
       "    .dataframe tbody tr th {\n",
       "        vertical-align: top;\n",
       "    }\n",
       "\n",
       "    .dataframe thead th {\n",
       "        text-align: right;\n",
       "    }\n",
       "</style>\n",
       "<table border=\"1\" class=\"dataframe\">\n",
       "  <thead>\n",
       "    <tr style=\"text-align: right;\">\n",
       "      <th></th>\n",
       "      <th>u</th>\n",
       "      <th>g</th>\n",
       "      <th>r</th>\n",
       "      <th>i</th>\n",
       "      <th>z</th>\n",
       "      <th>class</th>\n",
       "      <th>redshift</th>\n",
       "    </tr>\n",
       "  </thead>\n",
       "  <tbody>\n",
       "    <tr>\n",
       "      <td>3</td>\n",
       "      <td>18.63561</td>\n",
       "      <td>16.88346</td>\n",
       "      <td>16.09825</td>\n",
       "      <td>15.70987</td>\n",
       "      <td>15.43491</td>\n",
       "      <td>GALAXY</td>\n",
       "      <td>0.058155</td>\n",
       "    </tr>\n",
       "    <tr>\n",
       "      <td>4</td>\n",
       "      <td>18.88325</td>\n",
       "      <td>17.87948</td>\n",
       "      <td>17.47037</td>\n",
       "      <td>17.17441</td>\n",
       "      <td>17.05235</td>\n",
       "      <td>GALAXY</td>\n",
       "      <td>0.072210</td>\n",
       "    </tr>\n",
       "    <tr>\n",
       "      <td>5</td>\n",
       "      <td>15.44680</td>\n",
       "      <td>13.88656</td>\n",
       "      <td>13.06969</td>\n",
       "      <td>12.68676</td>\n",
       "      <td>12.42432</td>\n",
       "      <td>GALAXY</td>\n",
       "      <td>0.020701</td>\n",
       "    </tr>\n",
       "    <tr>\n",
       "      <td>6</td>\n",
       "      <td>19.10002</td>\n",
       "      <td>17.10998</td>\n",
       "      <td>16.05751</td>\n",
       "      <td>15.63390</td>\n",
       "      <td>15.26723</td>\n",
       "      <td>GALAXY</td>\n",
       "      <td>0.130948</td>\n",
       "    </tr>\n",
       "    <tr>\n",
       "      <td>7</td>\n",
       "      <td>16.89111</td>\n",
       "      <td>16.29741</td>\n",
       "      <td>16.25994</td>\n",
       "      <td>16.86333</td>\n",
       "      <td>16.77033</td>\n",
       "      <td>GALAXY</td>\n",
       "      <td>0.004703</td>\n",
       "    </tr>\n",
       "    <tr>\n",
       "      <td>...</td>\n",
       "      <td>...</td>\n",
       "      <td>...</td>\n",
       "      <td>...</td>\n",
       "      <td>...</td>\n",
       "      <td>...</td>\n",
       "      <td>...</td>\n",
       "      <td>...</td>\n",
       "    </tr>\n",
       "    <tr>\n",
       "      <td>71187</td>\n",
       "      <td>18.70279</td>\n",
       "      <td>18.58397</td>\n",
       "      <td>18.49807</td>\n",
       "      <td>18.29744</td>\n",
       "      <td>18.23418</td>\n",
       "      <td>QSO</td>\n",
       "      <td>1.929692</td>\n",
       "    </tr>\n",
       "    <tr>\n",
       "      <td>57421</td>\n",
       "      <td>19.34915</td>\n",
       "      <td>19.00526</td>\n",
       "      <td>18.97166</td>\n",
       "      <td>18.69705</td>\n",
       "      <td>18.44046</td>\n",
       "      <td>QSO</td>\n",
       "      <td>0.480607</td>\n",
       "    </tr>\n",
       "    <tr>\n",
       "      <td>25910</td>\n",
       "      <td>19.12707</td>\n",
       "      <td>18.76206</td>\n",
       "      <td>18.53347</td>\n",
       "      <td>18.18076</td>\n",
       "      <td>18.13458</td>\n",
       "      <td>QSO</td>\n",
       "      <td>1.689009</td>\n",
       "    </tr>\n",
       "    <tr>\n",
       "      <td>24927</td>\n",
       "      <td>19.34830</td>\n",
       "      <td>19.01279</td>\n",
       "      <td>18.88804</td>\n",
       "      <td>18.95060</td>\n",
       "      <td>18.82214</td>\n",
       "      <td>QSO</td>\n",
       "      <td>0.874234</td>\n",
       "    </tr>\n",
       "    <tr>\n",
       "      <td>79741</td>\n",
       "      <td>19.37997</td>\n",
       "      <td>19.37341</td>\n",
       "      <td>19.30868</td>\n",
       "      <td>19.15374</td>\n",
       "      <td>19.07598</td>\n",
       "      <td>QSO</td>\n",
       "      <td>1.996839</td>\n",
       "    </tr>\n",
       "  </tbody>\n",
       "</table>\n",
       "<p>153969 rows × 7 columns</p>\n",
       "</div>"
      ],
      "text/plain": [
       "              u         g         r         i         z   class  redshift\n",
       "3      18.63561  16.88346  16.09825  15.70987  15.43491  GALAXY  0.058155\n",
       "4      18.88325  17.87948  17.47037  17.17441  17.05235  GALAXY  0.072210\n",
       "5      15.44680  13.88656  13.06969  12.68676  12.42432  GALAXY  0.020701\n",
       "6      19.10002  17.10998  16.05751  15.63390  15.26723  GALAXY  0.130948\n",
       "7      16.89111  16.29741  16.25994  16.86333  16.77033  GALAXY  0.004703\n",
       "...         ...       ...       ...       ...       ...     ...       ...\n",
       "71187  18.70279  18.58397  18.49807  18.29744  18.23418     QSO  1.929692\n",
       "57421  19.34915  19.00526  18.97166  18.69705  18.44046     QSO  0.480607\n",
       "25910  19.12707  18.76206  18.53347  18.18076  18.13458     QSO  1.689009\n",
       "24927  19.34830  19.01279  18.88804  18.95060  18.82214     QSO  0.874234\n",
       "79741  19.37997  19.37341  19.30868  19.15374  19.07598     QSO  1.996839\n",
       "\n",
       "[153969 rows x 7 columns]"
      ]
     },
     "execution_count": 42,
     "metadata": {},
     "output_type": "execute_result"
    }
   ],
   "source": [
    "# we remove useless features by deleting their columns in the data frame\n",
    "df_features = df.drop(columns=['objid', 'ra','dec', 'run', 'rerun', 'camcol', 'field','specobjid', 'plate', 'mjd', 'fiberid'])\n",
    "df_features"
   ]
  },
  {
   "cell_type": "code",
   "execution_count": 43,
   "metadata": {},
   "outputs": [
    {
     "data": {
      "text/html": [
       "<div>\n",
       "<style scoped>\n",
       "    .dataframe tbody tr th:only-of-type {\n",
       "        vertical-align: middle;\n",
       "    }\n",
       "\n",
       "    .dataframe tbody tr th {\n",
       "        vertical-align: top;\n",
       "    }\n",
       "\n",
       "    .dataframe thead th {\n",
       "        text-align: right;\n",
       "    }\n",
       "</style>\n",
       "<table border=\"1\" class=\"dataframe\">\n",
       "  <thead>\n",
       "    <tr style=\"text-align: right;\">\n",
       "      <th></th>\n",
       "      <th>u</th>\n",
       "      <th>g</th>\n",
       "      <th>r</th>\n",
       "      <th>i</th>\n",
       "      <th>z</th>\n",
       "      <th>redshift</th>\n",
       "    </tr>\n",
       "  </thead>\n",
       "  <tbody>\n",
       "    <tr>\n",
       "      <td>count</td>\n",
       "      <td>153969.000000</td>\n",
       "      <td>153969.000000</td>\n",
       "      <td>153969.000000</td>\n",
       "      <td>153969.000000</td>\n",
       "      <td>153969.000000</td>\n",
       "      <td>153969.000000</td>\n",
       "    </tr>\n",
       "    <tr>\n",
       "      <td>mean</td>\n",
       "      <td>18.703096</td>\n",
       "      <td>17.727538</td>\n",
       "      <td>17.304080</td>\n",
       "      <td>17.091605</td>\n",
       "      <td>16.963882</td>\n",
       "      <td>0.436721</td>\n",
       "    </tr>\n",
       "    <tr>\n",
       "      <td>std</td>\n",
       "      <td>0.801705</td>\n",
       "      <td>1.081184</td>\n",
       "      <td>1.266946</td>\n",
       "      <td>1.355072</td>\n",
       "      <td>1.426057</td>\n",
       "      <td>0.701385</td>\n",
       "    </tr>\n",
       "    <tr>\n",
       "      <td>min</td>\n",
       "      <td>10.611810</td>\n",
       "      <td>9.988000</td>\n",
       "      <td>9.005167</td>\n",
       "      <td>8.896696</td>\n",
       "      <td>8.947795</td>\n",
       "      <td>-0.004136</td>\n",
       "    </tr>\n",
       "    <tr>\n",
       "      <td>25%</td>\n",
       "      <td>18.322540</td>\n",
       "      <td>17.075300</td>\n",
       "      <td>16.431380</td>\n",
       "      <td>16.110680</td>\n",
       "      <td>15.899790</td>\n",
       "      <td>0.000073</td>\n",
       "    </tr>\n",
       "    <tr>\n",
       "      <td>50%</td>\n",
       "      <td>18.938210</td>\n",
       "      <td>17.814370</td>\n",
       "      <td>17.325830</td>\n",
       "      <td>17.069640</td>\n",
       "      <td>16.939060</td>\n",
       "      <td>0.072443</td>\n",
       "    </tr>\n",
       "    <tr>\n",
       "      <td>75%</td>\n",
       "      <td>19.305960</td>\n",
       "      <td>18.543890</td>\n",
       "      <td>18.335770</td>\n",
       "      <td>18.235520</td>\n",
       "      <td>18.160940</td>\n",
       "      <td>0.693532</td>\n",
       "    </tr>\n",
       "    <tr>\n",
       "      <td>max</td>\n",
       "      <td>19.599940</td>\n",
       "      <td>19.984200</td>\n",
       "      <td>31.990100</td>\n",
       "      <td>32.141470</td>\n",
       "      <td>29.383740</td>\n",
       "      <td>7.011245</td>\n",
       "    </tr>\n",
       "  </tbody>\n",
       "</table>\n",
       "</div>"
      ],
      "text/plain": [
       "                   u              g              r              i  \\\n",
       "count  153969.000000  153969.000000  153969.000000  153969.000000   \n",
       "mean       18.703096      17.727538      17.304080      17.091605   \n",
       "std         0.801705       1.081184       1.266946       1.355072   \n",
       "min        10.611810       9.988000       9.005167       8.896696   \n",
       "25%        18.322540      17.075300      16.431380      16.110680   \n",
       "50%        18.938210      17.814370      17.325830      17.069640   \n",
       "75%        19.305960      18.543890      18.335770      18.235520   \n",
       "max        19.599940      19.984200      31.990100      32.141470   \n",
       "\n",
       "                   z       redshift  \n",
       "count  153969.000000  153969.000000  \n",
       "mean       16.963882       0.436721  \n",
       "std         1.426057       0.701385  \n",
       "min         8.947795      -0.004136  \n",
       "25%        15.899790       0.000073  \n",
       "50%        16.939060       0.072443  \n",
       "75%        18.160940       0.693532  \n",
       "max        29.383740       7.011245  "
      ]
     },
     "execution_count": 43,
     "metadata": {},
     "output_type": "execute_result"
    }
   ],
   "source": [
    "df_features.describe()"
   ]
  },
  {
   "cell_type": "code",
   "execution_count": 44,
   "metadata": {},
   "outputs": [],
   "source": [
    "## Encoder les classes \n",
    "# On utilisera l'encoder de scikit-learn\n",
    "le = preprocessing.LabelEncoder()\n",
    "labels = le.fit_transform(df_features[\"class\"])"
   ]
  },
  {
   "cell_type": "code",
   "execution_count": 45,
   "metadata": {},
   "outputs": [],
   "source": [
    "df_features[\"class\"] = labels"
   ]
  },
  {
   "cell_type": "code",
   "execution_count": 46,
   "metadata": {},
   "outputs": [
    {
     "data": {
      "text/plain": [
       "array([[-0.08417839, -0.78070044, -0.95176371, -1.01967987, -1.07217087,\n",
       "        -0.539742  ],\n",
       "       [ 0.22471439,  0.1405333 ,  0.1312532 ,  0.06110775,  0.06203731,\n",
       "        -0.51970254],\n",
       "       [-4.06172805, -3.5525779 , -3.34221183, -3.2506465 , -3.18330686,\n",
       "        -0.59314318],\n",
       "       ...,\n",
       "       [ 0.52884231,  0.95684469,  0.97036003,  0.80376457,  0.82093663,\n",
       "         1.78545699],\n",
       "       [ 0.80479269,  1.18874861,  1.2502228 ,  1.37188394,  1.30307889,\n",
       "         0.62378669],\n",
       "       [ 0.84429614,  1.52229142,  1.58223475,  1.52179531,  1.4810808 ,\n",
       "         2.22434733]])"
      ]
     },
     "execution_count": 46,
     "metadata": {},
     "output_type": "execute_result"
    }
   ],
   "source": [
    "## Standarisation\n",
    "# On utilisera la standarisation de scikit-learn\n",
    "df_features = df_features.drop(columns=[\"class\"])\n",
    "scaler = preprocessing.StandardScaler()\n",
    "scaled_features = scaler.fit_transform(df_features)\n",
    "scaled_features"
   ]
  },
  {
   "cell_type": "code",
   "execution_count": 47,
   "metadata": {},
   "outputs": [
    {
     "data": {
      "text/plain": [
       "(153969, 6)"
      ]
     },
     "execution_count": 47,
     "metadata": {},
     "output_type": "execute_result"
    }
   ],
   "source": [
    "scaled_features.shape"
   ]
  },
  {
   "cell_type": "code",
   "execution_count": 48,
   "metadata": {},
   "outputs": [
    {
     "data": {
      "text/plain": [
       "Index(['u', 'g', 'r', 'i', 'z', 'redshift'], dtype='object')"
      ]
     },
     "execution_count": 48,
     "metadata": {},
     "output_type": "execute_result"
    }
   ],
   "source": [
    "df_features.columns"
   ]
  },
  {
   "cell_type": "code",
   "execution_count": 49,
   "metadata": {},
   "outputs": [
    {
     "data": {
      "text/html": [
       "<div>\n",
       "<style scoped>\n",
       "    .dataframe tbody tr th:only-of-type {\n",
       "        vertical-align: middle;\n",
       "    }\n",
       "\n",
       "    .dataframe tbody tr th {\n",
       "        vertical-align: top;\n",
       "    }\n",
       "\n",
       "    .dataframe thead th {\n",
       "        text-align: right;\n",
       "    }\n",
       "</style>\n",
       "<table border=\"1\" class=\"dataframe\">\n",
       "  <thead>\n",
       "    <tr style=\"text-align: right;\">\n",
       "      <th></th>\n",
       "      <th>u</th>\n",
       "      <th>g</th>\n",
       "      <th>r</th>\n",
       "      <th>i</th>\n",
       "      <th>z</th>\n",
       "      <th>redshift</th>\n",
       "    </tr>\n",
       "  </thead>\n",
       "  <tbody>\n",
       "    <tr>\n",
       "      <td>0</td>\n",
       "      <td>-0.084178</td>\n",
       "      <td>-0.780700</td>\n",
       "      <td>-0.951764</td>\n",
       "      <td>-1.019680</td>\n",
       "      <td>-1.072171</td>\n",
       "      <td>-0.539742</td>\n",
       "    </tr>\n",
       "    <tr>\n",
       "      <td>1</td>\n",
       "      <td>0.224714</td>\n",
       "      <td>0.140533</td>\n",
       "      <td>0.131253</td>\n",
       "      <td>0.061108</td>\n",
       "      <td>0.062037</td>\n",
       "      <td>-0.519703</td>\n",
       "    </tr>\n",
       "    <tr>\n",
       "      <td>2</td>\n",
       "      <td>-4.061728</td>\n",
       "      <td>-3.552578</td>\n",
       "      <td>-3.342212</td>\n",
       "      <td>-3.250646</td>\n",
       "      <td>-3.183307</td>\n",
       "      <td>-0.593143</td>\n",
       "    </tr>\n",
       "    <tr>\n",
       "      <td>3</td>\n",
       "      <td>0.495102</td>\n",
       "      <td>-0.571189</td>\n",
       "      <td>-0.983920</td>\n",
       "      <td>-1.075744</td>\n",
       "      <td>-1.189754</td>\n",
       "      <td>-0.435956</td>\n",
       "    </tr>\n",
       "    <tr>\n",
       "      <td>4</td>\n",
       "      <td>-2.260174</td>\n",
       "      <td>-1.322747</td>\n",
       "      <td>-0.824141</td>\n",
       "      <td>-0.168460</td>\n",
       "      <td>-0.135725</td>\n",
       "      <td>-0.615952</td>\n",
       "    </tr>\n",
       "    <tr>\n",
       "      <td>...</td>\n",
       "      <td>...</td>\n",
       "      <td>...</td>\n",
       "      <td>...</td>\n",
       "      <td>...</td>\n",
       "      <td>...</td>\n",
       "      <td>...</td>\n",
       "    </tr>\n",
       "    <tr>\n",
       "      <td>153964</td>\n",
       "      <td>-0.000382</td>\n",
       "      <td>0.792127</td>\n",
       "      <td>0.942419</td>\n",
       "      <td>0.889871</td>\n",
       "      <td>0.890780</td>\n",
       "      <td>2.128612</td>\n",
       "    </tr>\n",
       "    <tr>\n",
       "      <td>153965</td>\n",
       "      <td>0.805853</td>\n",
       "      <td>1.181784</td>\n",
       "      <td>1.316224</td>\n",
       "      <td>1.184771</td>\n",
       "      <td>1.035431</td>\n",
       "      <td>0.062572</td>\n",
       "    </tr>\n",
       "    <tr>\n",
       "      <td>153966</td>\n",
       "      <td>0.528842</td>\n",
       "      <td>0.956845</td>\n",
       "      <td>0.970360</td>\n",
       "      <td>0.803765</td>\n",
       "      <td>0.820937</td>\n",
       "      <td>1.785457</td>\n",
       "    </tr>\n",
       "    <tr>\n",
       "      <td>153967</td>\n",
       "      <td>0.804793</td>\n",
       "      <td>1.188749</td>\n",
       "      <td>1.250223</td>\n",
       "      <td>1.371884</td>\n",
       "      <td>1.303079</td>\n",
       "      <td>0.623787</td>\n",
       "    </tr>\n",
       "    <tr>\n",
       "      <td>153968</td>\n",
       "      <td>0.844296</td>\n",
       "      <td>1.522291</td>\n",
       "      <td>1.582235</td>\n",
       "      <td>1.521795</td>\n",
       "      <td>1.481081</td>\n",
       "      <td>2.224347</td>\n",
       "    </tr>\n",
       "  </tbody>\n",
       "</table>\n",
       "<p>153969 rows × 6 columns</p>\n",
       "</div>"
      ],
      "text/plain": [
       "               u         g         r         i         z  redshift\n",
       "0      -0.084178 -0.780700 -0.951764 -1.019680 -1.072171 -0.539742\n",
       "1       0.224714  0.140533  0.131253  0.061108  0.062037 -0.519703\n",
       "2      -4.061728 -3.552578 -3.342212 -3.250646 -3.183307 -0.593143\n",
       "3       0.495102 -0.571189 -0.983920 -1.075744 -1.189754 -0.435956\n",
       "4      -2.260174 -1.322747 -0.824141 -0.168460 -0.135725 -0.615952\n",
       "...          ...       ...       ...       ...       ...       ...\n",
       "153964 -0.000382  0.792127  0.942419  0.889871  0.890780  2.128612\n",
       "153965  0.805853  1.181784  1.316224  1.184771  1.035431  0.062572\n",
       "153966  0.528842  0.956845  0.970360  0.803765  0.820937  1.785457\n",
       "153967  0.804793  1.188749  1.250223  1.371884  1.303079  0.623787\n",
       "153968  0.844296  1.522291  1.582235  1.521795  1.481081  2.224347\n",
       "\n",
       "[153969 rows x 6 columns]"
      ]
     },
     "execution_count": 49,
     "metadata": {},
     "output_type": "execute_result"
    }
   ],
   "source": [
    "# Convert numpy array to panda dataframe\n",
    "df_temp = pd.DataFrame(scaled_features, columns=df_features.columns)\n",
    "df_temp"
   ]
  },
  {
   "cell_type": "code",
   "execution_count": 50,
   "metadata": {},
   "outputs": [
    {
     "data": {
      "text/html": [
       "<div>\n",
       "<style scoped>\n",
       "    .dataframe tbody tr th:only-of-type {\n",
       "        vertical-align: middle;\n",
       "    }\n",
       "\n",
       "    .dataframe tbody tr th {\n",
       "        vertical-align: top;\n",
       "    }\n",
       "\n",
       "    .dataframe thead th {\n",
       "        text-align: right;\n",
       "    }\n",
       "</style>\n",
       "<table border=\"1\" class=\"dataframe\">\n",
       "  <thead>\n",
       "    <tr style=\"text-align: right;\">\n",
       "      <th></th>\n",
       "      <th>u</th>\n",
       "      <th>g</th>\n",
       "      <th>r</th>\n",
       "      <th>i</th>\n",
       "      <th>z</th>\n",
       "      <th>redshift</th>\n",
       "    </tr>\n",
       "  </thead>\n",
       "  <tbody>\n",
       "    <tr>\n",
       "      <td>109111</td>\n",
       "      <td>1.000489</td>\n",
       "      <td>1.456326</td>\n",
       "      <td>1.532067</td>\n",
       "      <td>1.460625</td>\n",
       "      <td>1.486452</td>\n",
       "      <td>1.630539</td>\n",
       "    </tr>\n",
       "    <tr>\n",
       "      <td>75636</td>\n",
       "      <td>0.793180</td>\n",
       "      <td>0.197564</td>\n",
       "      <td>0.062300</td>\n",
       "      <td>0.063624</td>\n",
       "      <td>0.061764</td>\n",
       "      <td>-0.622702</td>\n",
       "    </tr>\n",
       "    <tr>\n",
       "      <td>87244</td>\n",
       "      <td>-0.362050</td>\n",
       "      <td>-0.290644</td>\n",
       "      <td>0.020980</td>\n",
       "      <td>0.190865</td>\n",
       "      <td>0.328795</td>\n",
       "      <td>-0.622551</td>\n",
       "    </tr>\n",
       "    <tr>\n",
       "      <td>95817</td>\n",
       "      <td>0.374433</td>\n",
       "      <td>0.277365</td>\n",
       "      <td>0.345201</td>\n",
       "      <td>0.398405</td>\n",
       "      <td>0.443461</td>\n",
       "      <td>-0.623423</td>\n",
       "    </tr>\n",
       "    <tr>\n",
       "      <td>41148</td>\n",
       "      <td>0.486408</td>\n",
       "      <td>0.595545</td>\n",
       "      <td>0.668681</td>\n",
       "      <td>0.593436</td>\n",
       "      <td>0.700583</td>\n",
       "      <td>-0.476093</td>\n",
       "    </tr>\n",
       "    <tr>\n",
       "      <td>...</td>\n",
       "      <td>...</td>\n",
       "      <td>...</td>\n",
       "      <td>...</td>\n",
       "      <td>...</td>\n",
       "      <td>...</td>\n",
       "      <td>...</td>\n",
       "    </tr>\n",
       "    <tr>\n",
       "      <td>16863</td>\n",
       "      <td>0.699804</td>\n",
       "      <td>-0.088531</td>\n",
       "      <td>-0.440430</td>\n",
       "      <td>-0.671446</td>\n",
       "      <td>-0.817306</td>\n",
       "      <td>-0.519565</td>\n",
       "    </tr>\n",
       "    <tr>\n",
       "      <td>10915</td>\n",
       "      <td>-2.463840</td>\n",
       "      <td>-1.892467</td>\n",
       "      <td>-1.549194</td>\n",
       "      <td>-1.487029</td>\n",
       "      <td>-1.417649</td>\n",
       "      <td>-0.549798</td>\n",
       "    </tr>\n",
       "    <tr>\n",
       "      <td>11395</td>\n",
       "      <td>0.629129</td>\n",
       "      <td>0.081339</td>\n",
       "      <td>-0.442522</td>\n",
       "      <td>-0.625567</td>\n",
       "      <td>-0.765015</td>\n",
       "      <td>-0.373869</td>\n",
       "    </tr>\n",
       "    <tr>\n",
       "      <td>43094</td>\n",
       "      <td>0.219326</td>\n",
       "      <td>-0.002912</td>\n",
       "      <td>-0.009819</td>\n",
       "      <td>-0.054850</td>\n",
       "      <td>-0.102220</td>\n",
       "      <td>-0.536048</td>\n",
       "    </tr>\n",
       "    <tr>\n",
       "      <td>130755</td>\n",
       "      <td>0.270405</td>\n",
       "      <td>1.099152</td>\n",
       "      <td>1.253064</td>\n",
       "      <td>1.164064</td>\n",
       "      <td>1.160496</td>\n",
       "      <td>2.064028</td>\n",
       "    </tr>\n",
       "  </tbody>\n",
       "</table>\n",
       "<p>123175 rows × 6 columns</p>\n",
       "</div>"
      ],
      "text/plain": [
       "               u         g         r         i         z  redshift\n",
       "109111  1.000489  1.456326  1.532067  1.460625  1.486452  1.630539\n",
       "75636   0.793180  0.197564  0.062300  0.063624  0.061764 -0.622702\n",
       "87244  -0.362050 -0.290644  0.020980  0.190865  0.328795 -0.622551\n",
       "95817   0.374433  0.277365  0.345201  0.398405  0.443461 -0.623423\n",
       "41148   0.486408  0.595545  0.668681  0.593436  0.700583 -0.476093\n",
       "...          ...       ...       ...       ...       ...       ...\n",
       "16863   0.699804 -0.088531 -0.440430 -0.671446 -0.817306 -0.519565\n",
       "10915  -2.463840 -1.892467 -1.549194 -1.487029 -1.417649 -0.549798\n",
       "11395   0.629129  0.081339 -0.442522 -0.625567 -0.765015 -0.373869\n",
       "43094   0.219326 -0.002912 -0.009819 -0.054850 -0.102220 -0.536048\n",
       "130755  0.270405  1.099152  1.253064  1.164064  1.160496  2.064028\n",
       "\n",
       "[123175 rows x 6 columns]"
      ]
     },
     "execution_count": 50,
     "metadata": {},
     "output_type": "execute_result"
    }
   ],
   "source": [
    "# Décomposition de notre jeu de données en ensemble d'entrainement+validation et en un ensemble de test \n",
    "test_ratio = 0.2\n",
    "X_train, X_test, Y_train, Y_test = model_selection.train_test_split(df_temp, labels, test_size = test_ratio)\n",
    "X_train"
   ]
  },
  {
   "cell_type": "markdown",
   "metadata": {},
   "source": [
    "# ML Models"
   ]
  },
  {
   "cell_type": "code",
   "execution_count": 51,
   "metadata": {},
   "outputs": [],
   "source": [
    "# Modele bayesien fait à la main \n",
    "class BayesienNaif_Gaussian:\n",
    "    def __init__(self,K): ## instanciation d'un objet du type de la classe.\n",
    "        self.K = K\n",
    "    \n",
    "    def fit(self, X, y):\n",
    "        N = X.shape[0]\n",
    "        D = X.shape[1]\n",
    "        K = self.K\n",
    "        self.mkd = np.zeros((K,D))\n",
    "        self.skd = np.zeros((K,D))\n",
    "        self.Pk = np.zeros(K)\n",
    "\n",
    "        for k in range(0,K):\n",
    "            #Nb d'elements d'une classe\n",
    "            denominateur = (y==k).sum()\n",
    "            \n",
    "            #Mise a jour de mu\n",
    "            numerateurMoy = np.sum(X[y==k], axis=0)\n",
    "            self.mkd[k,:] = numerateurMoy[:] / denominateur # vecteur de taille D\n",
    "            \n",
    "            #Mise a jour de sigma²\n",
    "            numerateurSig = np.sum(np.subtract(X[y==k], self.mkd[k,:])**2, axis=0) \n",
    "            self.skd[k,:] = numerateurSig[:] / denominateur # vecteur de taille D\n",
    "            \n",
    "            #Probabilité qu'une donnée prise au hasard soit de la classe K\n",
    "            self.Pk[k] = denominateur/N\n",
    "        return self\n",
    "    \n",
    "    def predict_proba(self, X):\n",
    "        N = X.shape[0]\n",
    "        pi = 3.14159265\n",
    "        eps = 1e-8\n",
    "        K = self.K\n",
    "        ypreds = np.zeros((K, N))\n",
    "\n",
    "        for k in range (K):\n",
    "            num = -np.subtract(X, self.mkd[k])**2\n",
    "            denominateur = (eps + (2*(self.skd[k])))\n",
    "            \n",
    "            #Terme1 = -(x-mu)²/2sigma²\n",
    "            terme1 = num/denominateur        # vecteur de taille D\n",
    "            \n",
    "            #Terme2 = log(1/racine(2.PI.sigma²))\n",
    "            terme2 = np.log(1./(eps + np.sqrt(2*pi*(self.skd[k]))))   # vecteur de taille D\n",
    "            \n",
    "            #Somme sur D\n",
    "            ypreds[k] = np.sum(np.add (terme1, terme2), axis=1)\\\n",
    "                        + np.log(self.Pk[k])\n",
    "            \n",
    "        #Softmax pour avoir des probas\n",
    "        softmax_ypreds = np.divide(np.exp(ypreds), np.sum(np.exp(ypreds), axis=0)).T\n",
    "        return softmax_ypreds\n",
    "    \n",
    "    def predict(self, X):\n",
    "        y_proba = self.predict_proba(X)\n",
    "        y_pred = np.argmax(y_proba, axis=1)\n",
    "        return y_pred\n",
    "    "
   ]
  },
  {
   "cell_type": "code",
   "execution_count": 52,
   "metadata": {},
   "outputs": [
    {
     "name": "stdout",
     "output_type": "stream",
     "text": [
      "Score (Nombre d'éléments bien classés/N) :  0.9611612651815289\n"
     ]
    }
   ],
   "source": [
    "model = BayesienNaif_Gaussian(3)\n",
    "model.fit(X_train, Y_train)\n",
    "probas = model.predict_proba(X_test)\n",
    "ypred_test = model.predict(X_test)\n",
    "\n",
    "#Calcule du score sur test (Nombre d'elements bien classés/N)\n",
    "score = 1 - (ypred_test - Y_test != 0 ).mean()\n",
    "print (\"Score (Nombre d'éléments bien classés/N) : \", score) \n"
   ]
  },
  {
   "cell_type": "code",
   "execution_count": 53,
   "metadata": {},
   "outputs": [
    {
     "name": "stdout",
     "output_type": "stream",
     "text": [
      "Aire Courbe ROC:  0.9837909548418379\n"
     ]
    }
   ],
   "source": [
    "from sklearn.metrics import roc_auc_score\n",
    "\n",
    "#Metrique AUC ROC\n",
    "roc = roc_auc_score(Y_test, probas, multi_class='ovo')\n",
    "print (\"Aire Courbe ROC: \", roc) "
   ]
  },
  {
   "cell_type": "markdown",
   "metadata": {},
   "source": [
    "# Visualisation des courbes ROC"
   ]
  },
  {
   "cell_type": "code",
   "execution_count": 54,
   "metadata": {},
   "outputs": [],
   "source": [
    "from sklearn.preprocessing import label_binarize\n",
    "from sklearn.metrics import roc_curve, auc"
   ]
  },
  {
   "cell_type": "code",
   "execution_count": 55,
   "metadata": {},
   "outputs": [],
   "source": [
    "#  courbe roc et auc pour chaque classe\n",
    "\n",
    "Y_test_binarize = label_binarize(Y_test, classes=[0, 1, 2])\n",
    "n_classes = Y_test_binarize.shape[1]\n",
    "    \n",
    "fpr = dict()\n",
    "tpr = dict()\n",
    "roc_auc = dict()\n",
    "for i in range(n_classes):\n",
    "    fpr[i], tpr[i], _ = roc_curve( Y_test_binarize[:, i], probas[:, i])\n",
    "    roc_auc[i] = auc(fpr[i], tpr[i])\n"
   ]
  },
  {
   "cell_type": "code",
   "execution_count": 56,
   "metadata": {},
   "outputs": [
    {
     "data": {
      "image/png": "[encoded data removed]",
      "text/plain": [
       "<Figure size 864x432 with 1 Axes>"
      ]
     },
     "metadata": {
      "needs_background": "light"
     },
     "output_type": "display_data"
    },
    {
     "data": {
      "image/png": "[encoded data removed]",
      "text/plain": [
       "<Figure size 864x432 with 1 Axes>"
      ]
     },
     "metadata": {
      "needs_background": "light"
     },
     "output_type": "display_data"
    },
    {
     "data": {
      "image/png": "[encoded data removed]",
      "text/plain": [
       "<Figure size 864x432 with 1 Axes>"
      ]
     },
     "metadata": {
      "needs_background": "light"
     },
     "output_type": "display_data"
    }
   ],
   "source": [
    "#vicualiation de la courbe roc et auc pour chaque classe \n",
    "for i in range(n_classes):\n",
    "    plt.figure(figsize=(12,6))\n",
    "    plt.plot(fpr[i], tpr[i], color='blueviolet',linewidth=4,label='ROC curve (area = %0.2f)' % roc_auc[i])\n",
    "    plt.plot([0, 1], [0, 1], color='crimson',linestyle='--')\n",
    "    plt.xlim([0.0, 1.0])\n",
    "    plt.ylim([0.0, 1.05])\n",
    "    plt.xlabel('False Positive Rate')\n",
    "    plt.ylabel('True Positive Rate')\n",
    "    title = (\"Class \"+ str(i))\n",
    "    plt.title(title)\n",
    "    plt.legend(loc=\"center right\")\n"
   ]
  },
  {
   "cell_type": "code",
   "execution_count": 57,
   "metadata": {},
   "outputs": [],
   "source": [
    "#coube ROC pour toutes les classes\n",
    "fpr[\"micro\"], tpr[\"micro\"], _ = roc_curve(Y_test_binarize.ravel(), probas.ravel())\n",
    "roc_auc[\"micro\"] = auc(fpr[\"micro\"], tpr[\"micro\"])"
   ]
  },
  {
   "cell_type": "code",
   "execution_count": 58,
   "metadata": {},
   "outputs": [
    {
     "data": {
      "text/plain": [
       "<matplotlib.legend.Legend at 0x27a6d8a72c8>"
      ]
     },
     "execution_count": 58,
     "metadata": {},
     "output_type": "execute_result"
    },
    {
     "data": {
      "image/png": "[encoded data removed]",
      "text/plain": [
       "<Figure size 864x432 with 1 Axes>"
      ]
     },
     "metadata": {
      "needs_background": "light"
     },
     "output_type": "display_data"
    }
   ],
   "source": [
    "# Plot all ROC curves\n",
    "plt.figure(figsize=(12,6))\n",
    "plt.plot(fpr[\"micro\"], tpr[\"micro\"],label='average ROC curve (area = {0:0.8f})'''.format(roc_auc[\"micro\"]),\n",
    "         color='mediumvioletred', linewidth=4)\n",
    "plt.xlim([0.0, 1.0])\n",
    "plt.ylim([0.0, 1.05])\n",
    "plt.plot([0, 1], [0, 1], '--')\n",
    "plt.xlabel('False Positive Rate')\n",
    "plt.ylabel('True Positive Rate')\n",
    "plt.legend(loc=\"center right\")\n"
   ]
  },
  {
   "cell_type": "code",
   "execution_count": 30,
   "metadata": {},
   "outputs": [],
   "source": [
    "## Autres Algos pour comparer Sans optimisation des hyper param\n",
    "\n",
    "from sklearn.neighbors import KNeighborsClassifier\n",
    "from sklearn.tree import DecisionTreeClassifier\n",
    "from sklearn.ensemble import RandomForestClassifier\n",
    "from sklearn.naive_bayes import GaussianNB\n",
    "from sklearn.model_selection import cross_validate\n",
    "model_name = [\"Nearest Neighbors\",\n",
    "     \"Decision Tree\", \"Random Forest\", \n",
    "     \"Naive Bayes\"]\n",
    "model_list = [\n",
    "    KNeighborsClassifier(3),\n",
    "    DecisionTreeClassifier(max_depth=10),\n",
    "    RandomForestClassifier(max_depth=10, n_estimators=20),\n",
    "    GaussianNB()\n",
    "    ]\n",
    "\n",
    "s_train = []\n",
    "s_test = []\n",
    "for i in range(len(model_list)):\n",
    "    s_prime = cross_validate(model_list[i], X_train, Y_train,cv=5, scoring='roc_auc_ovo', return_train_score=True)\n",
    "    s_train.append(s_prime['train_score'].mean())\n",
    "    s_test.append(s_prime['test_score'].mean())\n",
    "    d = {'Score_train': s_train, \n",
    "            'Score_test': s_test} "
   ]
  },
  {
   "cell_type": "code",
   "execution_count": 27,
   "metadata": {},
   "outputs": [
    {
     "data": {
      "text/plain": [
       "[0.9911630046969883, 0.9962974276196916, 0.998346514494524, 0.983447354458525]"
      ]
     },
     "execution_count": 27,
     "metadata": {},
     "output_type": "execute_result"
    }
   ],
   "source": [
    "s_test"
   ]
  },
  {
   "cell_type": "code",
   "execution_count": 29,
   "metadata": {},
   "outputs": [
    {
     "data": {
      "image/png": "[encoded data removed]",
      "text/plain": [
       "<Figure size 432x288 with 1 Axes>"
      ]
     },
     "metadata": {
      "needs_background": "light"
     },
     "output_type": "display_data"
    }
   ],
   "source": [
    "#Plot\n",
    "sd = pd.DataFrame(d, index=[model_name[i] for i in range(len(model_name))] ) \n",
    "ax = sd.plot.bar()\n",
    "ax.set_ylabel(\"Score\")\n",
    "ax.set_xlabel(\"Model\")\n",
    "plt.show()"
   ]
  },
  {
   "cell_type": "code",
   "execution_count": null,
   "metadata": {},
   "outputs": [],
   "source": []
  }
 ],
 "metadata": {
  "kernelspec": {
   "display_name": "Python 3",
   "language": "python",
   "name": "python3"
  },
  "language_info": {
   "codemirror_mode": {
    "name": "ipython",
    "version": 3
   },
   "file_extension": ".py",
   "mimetype": "text/x-python",
   "name": "python",
   "nbconvert_exporter": "python",
   "pygments_lexer": "ipython3",
   "version": "3.7.4"
  }
 },
 "nbformat": 4,
 "nbformat_minor": 2
}
